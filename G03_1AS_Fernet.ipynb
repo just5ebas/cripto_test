{
  "nbformat": 4,
  "nbformat_minor": 0,
  "metadata": {
    "colab": {
      "provenance": [],
      "authorship_tag": "ABX9TyM2LAi6k1PuwIfy56Y1jScT",
      "include_colab_link": true
    },
    "kernelspec": {
      "name": "python3",
      "display_name": "Python 3"
    },
    "language_info": {
      "name": "python"
    }
  },
  "cells": [
    {
      "cell_type": "markdown",
      "metadata": {
        "id": "view-in-github",
        "colab_type": "text"
      },
      "source": [
        "<a href=\"https://colab.research.google.com/github/just5ebas/cripto_test/blob/main/G03_1AS_Fernet.ipynb\" target=\"_parent\"><img src=\"https://colab.research.google.com/assets/colab-badge.svg\" alt=\"Open In Colab\"/></a>"
      ]
    },
    {
      "cell_type": "code",
      "execution_count": 21,
      "metadata": {
        "colab": {
          "base_uri": "https://localhost:8080/"
        },
        "id": "64weflf3bqUm",
        "outputId": "14db5f00-e8fd-49bf-d034-0ff354025d00"
      },
      "outputs": [
        {
          "output_type": "stream",
          "name": "stdout",
          "text": [
            "Looking in indexes: https://pypi.org/simple, https://us-python.pkg.dev/colab-wheels/public/simple/\n",
            "Requirement already satisfied: cryptography in /usr/local/lib/python3.10/dist-packages (40.0.2)\n",
            "Requirement already satisfied: cffi>=1.12 in /usr/local/lib/python3.10/dist-packages (from cryptography) (1.15.1)\n",
            "Requirement already satisfied: pycparser in /usr/local/lib/python3.10/dist-packages (from cffi>=1.12->cryptography) (2.21)\n",
            "Looking in indexes: https://pypi.org/simple, https://us-python.pkg.dev/colab-wheels/public/simple/\n",
            "Requirement already satisfied: lorem-text in /usr/local/lib/python3.10/dist-packages (2.1)\n",
            "Requirement already satisfied: Click>=7.0 in /usr/local/lib/python3.10/dist-packages (from lorem-text) (8.1.3)\n"
          ]
        }
      ],
      "source": [
        "# Fernet\n",
        "!pip install cryptography\n",
        "\n",
        "#Lorem ipsum\n",
        "!pip install lorem-text"
      ]
    },
    {
      "cell_type": "code",
      "source": [
        "# Fernet\n",
        "from cryptography.fernet import Fernet"
      ],
      "metadata": {
        "id": "TNhh_QTucBHg"
      },
      "execution_count": 22,
      "outputs": []
    },
    {
      "cell_type": "code",
      "source": [
        "import time"
      ],
      "metadata": {
        "id": "tEq2qThkdzpH"
      },
      "execution_count": 23,
      "outputs": []
    },
    {
      "cell_type": "code",
      "source": [
        "from lorem_text import lorem\n",
        "\n",
        "def generar_lorem(num_palabras):\n",
        "    texto = lorem.words(num_palabras)\n",
        "    return texto"
      ],
      "metadata": {
        "id": "42JCJbg_clUm"
      },
      "execution_count": 24,
      "outputs": []
    },
    {
      "cell_type": "markdown",
      "source": [
        "##1. Leer un archivo con el texto del mensaje a cifrar."
      ],
      "metadata": {
        "id": "eIgQBO5ueeau"
      }
    },
    {
      "cell_type": "code",
      "source": [
        "inicio = time.time()\n",
        "\n",
        "mensaje = generar_lorem(10).encode()\n",
        "\n",
        "fin = time.time()\n",
        "\n",
        "duracion = fin - inicio\n",
        "\n",
        "print(\"Tiempo de ejecución:\", duracion*1000, \"milisegundos\")"
      ],
      "metadata": {
        "colab": {
          "base_uri": "https://localhost:8080/"
        },
        "id": "bTznnUwmd3RB",
        "outputId": "6337f5b9-de61-4914-9ceb-4e83c8dff91a"
      },
      "execution_count": 25,
      "outputs": [
        {
          "output_type": "stream",
          "name": "stdout",
          "text": [
            "Tiempo de ejecución: 0.2009868621826172 milisegundos\n"
          ]
        }
      ]
    },
    {
      "cell_type": "markdown",
      "source": [
        "##2. Generar e imprimir la(las) claves de cifrado y/o descifrado."
      ],
      "metadata": {
        "id": "hBEh29fHebGk"
      }
    },
    {
      "cell_type": "code",
      "source": [
        "inicio = time.time()\n",
        "\n",
        "clave = Fernet.generate_key()\n",
        "f = Fernet(clave)\n",
        "print('Clave',clave)\n",
        "\n",
        "fin = time.time()\n",
        "\n",
        "duracion = fin - inicio\n",
        "\n",
        "print(\"Tiempo de ejecución:\", duracion*1000, \"milisegundos\")"
      ],
      "metadata": {
        "colab": {
          "base_uri": "https://localhost:8080/"
        },
        "id": "ldS9ojAfd3MW",
        "outputId": "749223d9-037b-4279-c4dc-6a0f4bfa40f9"
      },
      "execution_count": 26,
      "outputs": [
        {
          "output_type": "stream",
          "name": "stdout",
          "text": [
            "Clave b'ShS-z6urBeLyJotBU8nrmxCE0SOthheN9WpXiS2OCMo='\n",
            "Tiempo de ejecución: 0.3437995910644531 milisegundos\n"
          ]
        }
      ]
    },
    {
      "cell_type": "markdown",
      "source": [
        "##3. Cifrar e imprimir el texto."
      ],
      "metadata": {
        "id": "9cZWuh2Zehk1"
      }
    },
    {
      "cell_type": "code",
      "source": [
        "inicio = time.time()\n",
        "\n",
        "texto_encriptado = f.encrypt(mensaje)\n",
        "print('Texto encriptado:',texto_encriptado.decode())\n",
        "\n",
        "fin = time.time()\n",
        "\n",
        "duracion = fin - inicio\n",
        "\n",
        "print(\"Tiempo de ejecución:\", duracion*1000, \"milisegundos\")"
      ],
      "metadata": {
        "colab": {
          "base_uri": "https://localhost:8080/"
        },
        "id": "9OYNghb1d3Fh",
        "outputId": "9743c04f-05ba-454c-8c32-e2b2ad3f24fa"
      },
      "execution_count": 27,
      "outputs": [
        {
          "output_type": "stream",
          "name": "stdout",
          "text": [
            "Texto encriptado: gAAAAABkfRgDf_10E4RcUbJovDYY4WDtTJpGeQxA00R_dJELkM2XfglX1hY5f9peVxEznd05le329errAqzh2N7ZuHXOrcuRLHxCvECoZg4WPKS_JjqVR3szcpvU_Yn1x52CMC4ZSgpizyBeEZTS4lp28tEZYJ5EvyP_xVZrmLot8rHcywHhKRg=\n",
            "Tiempo de ejecución: 0.8771419525146484 milisegundos\n"
          ]
        }
      ]
    },
    {
      "cell_type": "markdown",
      "source": [
        "##4. Descifrar e imprimir el texto."
      ],
      "metadata": {
        "id": "nm8VzYaiekmA"
      }
    },
    {
      "cell_type": "code",
      "source": [
        "inicio = time.time()\n",
        "\n",
        "desencriptado = f.decrypt(texto_encriptado)\n",
        "print('Texto desencriptado:',desencriptado.decode())\n",
        "\n",
        "fin = time.time()\n",
        "\n",
        "duracion = fin - inicio\n",
        "\n",
        "print(\"Tiempo de ejecución:\", duracion*1000, \"milisegundos\")"
      ],
      "metadata": {
        "colab": {
          "base_uri": "https://localhost:8080/"
        },
        "id": "3WJbMHRwd27o",
        "outputId": "e9e700ab-bfb0-4e25-8c37-ecd6c3685487"
      },
      "execution_count": 28,
      "outputs": [
        {
          "output_type": "stream",
          "name": "stdout",
          "text": [
            "Texto desencriptado: ea deleniti modi maiores ducimus nemo totam magnam reiciendis pariatur\n",
            "Tiempo de ejecución: 1.7113685607910156 milisegundos\n"
          ]
        }
      ]
    }
  ]
}