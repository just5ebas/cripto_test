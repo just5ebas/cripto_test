{
  "nbformat": 4,
  "nbformat_minor": 0,
  "metadata": {
    "colab": {
      "provenance": [],
      "authorship_tag": "ABX9TyOEUKvKonHiSNNxIt7/oFw6",
      "include_colab_link": true
    },
    "kernelspec": {
      "name": "python3",
      "display_name": "Python 3"
    },
    "language_info": {
      "name": "python"
    }
  },
  "cells": [
    {
      "cell_type": "markdown",
      "metadata": {
        "id": "view-in-github",
        "colab_type": "text"
      },
      "source": [
        "<a href=\"https://colab.research.google.com/github/just5ebas/cripto_test/blob/main/G03_3AA_DSA.ipynb\" target=\"_parent\"><img src=\"https://colab.research.google.com/assets/colab-badge.svg\" alt=\"Open In Colab\"/></a>"
      ]
    },
    {
      "cell_type": "code",
      "source": [
        "#Lorem ipsum\n",
        "!pip install lorem-text"
      ],
      "metadata": {
        "colab": {
          "base_uri": "https://localhost:8080/"
        },
        "id": "hwwt4mkgh7gA",
        "outputId": "73b81bfe-7495-4484-9663-c727064dac16"
      },
      "execution_count": 7,
      "outputs": [
        {
          "output_type": "stream",
          "name": "stdout",
          "text": [
            "Looking in indexes: https://pypi.org/simple, https://us-python.pkg.dev/colab-wheels/public/simple/\n",
            "Collecting lorem-text\n",
            "  Downloading lorem_text-2.1-py2.py3-none-any.whl (6.0 kB)\n",
            "Requirement already satisfied: Click>=7.0 in /usr/local/lib/python3.10/dist-packages (from lorem-text) (8.1.3)\n",
            "Installing collected packages: lorem-text\n",
            "Successfully installed lorem-text-2.1\n"
          ]
        }
      ]
    },
    {
      "cell_type": "code",
      "execution_count": 1,
      "metadata": {
        "id": "64weflf3bqUm"
      },
      "outputs": [],
      "source": [
        "# DSA\n",
        "from cryptography.hazmat.backends import default_backend\n",
        "from cryptography.hazmat.primitives import hashes\n",
        "from cryptography.hazmat.primitives.asymmetric import dsa\n",
        "from cryptography.hazmat.primitives.asymmetric import rsa\n",
        "from cryptography.hazmat.primitives import serialization"
      ]
    },
    {
      "cell_type": "code",
      "source": [
        "import time"
      ],
      "metadata": {
        "id": "tEq2qThkdzpH"
      },
      "execution_count": 5,
      "outputs": []
    },
    {
      "cell_type": "code",
      "source": [
        "from lorem_text import lorem\n",
        "\n",
        "def generar_lorem(num_palabras):\n",
        "    texto = lorem.words(num_palabras)\n",
        "    return texto"
      ],
      "metadata": {
        "id": "42JCJbg_clUm"
      },
      "execution_count": 8,
      "outputs": []
    },
    {
      "cell_type": "markdown",
      "source": [
        "##1. Leer un archivo con el texto del mensaje a cifrar."
      ],
      "metadata": {
        "id": "eIgQBO5ueeau"
      }
    },
    {
      "cell_type": "code",
      "source": [
        "inicio = time.time()\n",
        "\n",
        "mensaje = generar_lorem(10).encode()\n",
        "\n",
        "fin = time.time()\n",
        "\n",
        "duracion = fin - inicio\n",
        "\n",
        "print(\"Tiempo de ejecución:\", duracion*1000, \"milisegundos\")"
      ],
      "metadata": {
        "colab": {
          "base_uri": "https://localhost:8080/"
        },
        "id": "bTznnUwmd3RB",
        "outputId": "e3057ef2-f275-4a05-c5c4-d33cb8dc972e"
      },
      "execution_count": 12,
      "outputs": [
        {
          "output_type": "stream",
          "name": "stdout",
          "text": [
            "Tiempo de ejecución: 0.18930435180664062 milisegundos\n"
          ]
        }
      ]
    },
    {
      "cell_type": "markdown",
      "source": [
        "##2. Generar e imprimir la(las) claves de cifrado y/o descifrado."
      ],
      "metadata": {
        "id": "hBEh29fHebGk"
      }
    },
    {
      "cell_type": "code",
      "source": [
        "inicio = time.time()\n",
        "\n",
        "clave_privada = dsa.generate_private_key(key_size=1024)\n",
        "print('Clave privada:', clave_privada)\n",
        "\n",
        "clave_publica = clave_privada.public_key()\n",
        "print('Clave publica:', clave_publica)\n",
        "\n",
        "fin = time.time()\n",
        "\n",
        "duracion = fin - inicio\n",
        "\n",
        "print(\"Tiempo de ejecución:\", duracion*1000, \"milisegundos\")"
      ],
      "metadata": {
        "colab": {
          "base_uri": "https://localhost:8080/"
        },
        "id": "ldS9ojAfd3MW",
        "outputId": "457bf73a-f60d-4422-f7d4-816c55684e5e"
      },
      "execution_count": 13,
      "outputs": [
        {
          "output_type": "stream",
          "name": "stdout",
          "text": [
            "<cryptography.hazmat.backends.openssl.dsa._DSAPrivateKey object at 0x7f5d7ee1add0>\n",
            "<cryptography.hazmat.backends.openssl.dsa._DSAPublicKey object at 0x7f5d7ee1ad10>\n",
            "Tiempo de ejecución: 37.29748725891113 milisegundos\n"
          ]
        }
      ]
    },
    {
      "cell_type": "markdown",
      "source": [
        "##3. Cifrar e imprimir el texto."
      ],
      "metadata": {
        "id": "9cZWuh2Zehk1"
      }
    },
    {
      "cell_type": "code",
      "source": [
        "inicio = time.time()\n",
        "\n",
        "firma = clave_privada.sign(\n",
        "    mensaje,\n",
        "    hashes.SHA256()\n",
        ")\n",
        "print('Firma digital:', firma)\n",
        "\n",
        "fin = time.time()\n",
        "\n",
        "duracion = fin - inicio\n",
        "\n",
        "print(\"Tiempo de ejecución:\", duracion*1000, \"milisegundos\")"
      ],
      "metadata": {
        "colab": {
          "base_uri": "https://localhost:8080/"
        },
        "id": "9OYNghb1d3Fh",
        "outputId": "2e33b96b-c511-4a25-d7f9-f5d6eca499ff"
      },
      "execution_count": 17,
      "outputs": [
        {
          "output_type": "stream",
          "name": "stdout",
          "text": [
            "b\"0-\\x02\\x14I\\xc8'\\xdaj\\xf9X|U\\x0f@\\xb90\\x1dk\\x04\\xde\\xf1M\\xf5\\x02\\x15\\x00\\xca\\xbe\\xcd\\x01'd\\xde\\x90\\xed\\xa8\\x9d\\r\\x05I7\\xa2\\x10\\x8c\\x85\\xa1\"\n",
            "Tiempo de ejecución: 4.212141036987305 milisegundos\n"
          ]
        }
      ]
    },
    {
      "cell_type": "markdown",
      "source": [
        "##4. Descifrar e imprimir el texto."
      ],
      "metadata": {
        "id": "nm8VzYaiekmA"
      }
    },
    {
      "cell_type": "code",
      "source": [
        "inicio = time.time()\n",
        "\n",
        "#DSA no desencripta el mensaje, sin embargo, podemos verificar que una firma sea valida\n",
        "try:\n",
        "    clave_publica.verify(\n",
        "      firma,\n",
        "      mensaje,\n",
        "      hashes.SHA256()\n",
        "    ) \n",
        "    print(\"La firma es valida.\")\n",
        "except Exception:\n",
        "  print(\"La firma no es valida\")\n",
        "\n",
        "fin = time.time()\n",
        "\n",
        "duracion = fin - inicio\n",
        "\n",
        "print(\"Tiempo de ejecución:\", duracion*1000, \"milisegundos\")"
      ],
      "metadata": {
        "colab": {
          "base_uri": "https://localhost:8080/"
        },
        "id": "3WJbMHRwd27o",
        "outputId": "ed8ce90b-7095-4be7-b1c8-ed85db29005c"
      },
      "execution_count": 19,
      "outputs": [
        {
          "output_type": "stream",
          "name": "stdout",
          "text": [
            "La firma es valida.\n",
            "Tiempo de ejecución: 2.127408981323242 milisegundos\n"
          ]
        }
      ]
    }
  ]
}