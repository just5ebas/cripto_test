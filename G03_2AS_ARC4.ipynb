{
  "nbformat": 4,
  "nbformat_minor": 0,
  "metadata": {
    "colab": {
      "provenance": []
    },
    "kernelspec": {
      "name": "python3",
      "display_name": "Python 3"
    },
    "language_info": {
      "name": "python"
    }
  },
  "cells": [
    {
      "cell_type": "code",
      "source": [
        "# ARC4\n",
        "!pip install pycryptodome\n",
        "\n",
        "#Lorem ipsum\n",
        "!pip install lorem-text"
      ],
      "metadata": {
        "colab": {
          "base_uri": "https://localhost:8080/"
        },
        "id": "uPC5METokY17",
        "outputId": "c4969ace-150a-48c7-80db-1bf23886f163"
      },
      "execution_count": 4,
      "outputs": [
        {
          "output_type": "stream",
          "name": "stdout",
          "text": [
            "Looking in indexes: https://pypi.org/simple, https://us-python.pkg.dev/colab-wheels/public/simple/\n",
            "Requirement already satisfied: pycryptodome in /usr/local/lib/python3.10/dist-packages (3.18.0)\n",
            "Looking in indexes: https://pypi.org/simple, https://us-python.pkg.dev/colab-wheels/public/simple/\n",
            "Collecting lorem-text\n",
            "  Downloading lorem_text-2.1-py2.py3-none-any.whl (6.0 kB)\n",
            "Requirement already satisfied: Click>=7.0 in /usr/local/lib/python3.10/dist-packages (from lorem-text) (8.1.3)\n",
            "Installing collected packages: lorem-text\n",
            "Successfully installed lorem-text-2.1\n"
          ]
        }
      ]
    },
    {
      "cell_type": "code",
      "execution_count": 5,
      "metadata": {
        "id": "jrsALLMzhOgC"
      },
      "outputs": [],
      "source": [
        "# ARC4\n",
        "import Crypto \n",
        "from Crypto.Cipher import ARC4\n",
        "import secrets\n",
        "import time\n",
        "from lorem_text import lorem\n"
      ]
    },
    {
      "cell_type": "code",
      "source": [
        "# Generar un texto de estilo \"Lorem Ipsum\" con un número específico de palabras\n",
        "def generar_lorem(num_palabras):\n",
        "    texto = lorem.words(num_palabras)\n",
        "    return texto"
      ],
      "metadata": {
        "id": "qp2h926FhpMB"
      },
      "execution_count": 6,
      "outputs": []
    },
    {
      "cell_type": "markdown",
      "source": [
        "##1. Leer un archivo con el texto del mensaje a cifrar."
      ],
      "metadata": {
        "id": "YbRqD4TShv4A"
      }
    },
    {
      "cell_type": "code",
      "source": [
        "inicio = time.time()\n",
        "\n",
        "mensaje = generar_lorem(10).encode()\n",
        "\n",
        "fin = time.time()\n",
        "\n",
        "duracion = fin - inicio\n",
        "\n",
        "print(\"Tiempo de ejecución:\", duracion*1000, \"milisegundos\")"
      ],
      "metadata": {
        "colab": {
          "base_uri": "https://localhost:8080/"
        },
        "id": "07p4V0h0hss5",
        "outputId": "c6c2dd7c-8aab-4a9a-d75b-10d0492e1a79"
      },
      "execution_count": 7,
      "outputs": [
        {
          "output_type": "stream",
          "name": "stdout",
          "text": [
            "Tiempo de ejecución: 0.1761913299560547 milisegundos\n"
          ]
        }
      ]
    },
    {
      "cell_type": "markdown",
      "source": [
        "##2. Generar e imprimir la(las) claves de cifrado y/o \n"
      ],
      "metadata": {
        "id": "YL6Uzq_yh2bu"
      }
    },
    {
      "cell_type": "code",
      "source": [
        "inicio = time.time()\n",
        "clave = secrets.token_bytes(16)  # Genera una clave aleatoria de 16 bytes\n",
        "cipher = ARC4.new(clave) \n",
        "print(cipher)\n",
        "print(clave)\n",
        "fin = time.time()\n",
        "duracion = fin - inicio\n",
        "print(\"Tiempo de ejecución:\", duracion*1000, \"milisegundos\")\n"
      ],
      "metadata": {
        "colab": {
          "base_uri": "https://localhost:8080/"
        },
        "id": "wt-PUgFOiYzG",
        "outputId": "34d64b08-c988-4467-e732-ac8a6651d557"
      },
      "execution_count": 9,
      "outputs": [
        {
          "output_type": "stream",
          "name": "stdout",
          "text": [
            "<Crypto.Cipher.ARC4.ARC4Cipher object at 0x7fb69c6750f0>\n",
            "b'm\\x86\\xf7\\xe1oTx\\xdfTa\\x8f\\xc7>\\xac\\xf7\\x12'\n",
            "Tiempo de ejecución: 1.0716915130615234 milisegundos\n"
          ]
        }
      ]
    },
    {
      "cell_type": "markdown",
      "source": [
        "##3. Cifrar e imprimir el texto."
      ],
      "metadata": {
        "id": "3e2I3uunjOu8"
      }
    },
    {
      "cell_type": "code",
      "source": [
        "inicio = time.time() \n",
        "texto_cifrado = cipher.encrypt(mensaje)\n",
        "print(texto_cifrado)\n",
        "fin = time.time()    \n",
        "duracion = fin - inicio\n",
        "print(\"Tiempo de ejecución:\", duracion*1000, \"milisegundos\")\n",
        "  \n",
        "  \n",
        "\n"
      ],
      "metadata": {
        "colab": {
          "base_uri": "https://localhost:8080/"
        },
        "id": "-BN2vjVahYUw",
        "outputId": "24ffb374-3b14-4e23-9ef1-f4cacf893f5a"
      },
      "execution_count": 10,
      "outputs": [
        {
          "output_type": "stream",
          "name": "stdout",
          "text": [
            "b'o\\xe1yP\\xc6Z7:{\\xa7\\x02\\xd6(\\xc4\\x94\\xfd\\x9b\\xf3\\x11\\x11#\\x11L\\xafq\\t\\x9b>\\xdb}\\xd5\\xeaup+,\\xb1\\xa8\\xc7\\x0e7\\x86-*t\\xfc;\\x83>`\\xfe\\xdbq\\xedX\\xfa\\x88\\xf9-d\\x9d\\xa5\\x13\\xe0w\\xba\\xb5:l\\x8e\\xc6\\xc2\\x0b,\\xd5\\xf5do'\n",
            "Tiempo de ejecución: 3.9103031158447266 milisegundos\n"
          ]
        }
      ]
    },
    {
      "cell_type": "markdown",
      "source": [
        "##4. Descifrar e imprimir el texto."
      ],
      "metadata": {
        "id": "ummqDeJbjXjh"
      }
    },
    {
      "cell_type": "code",
      "source": [
        "inicio = time.time() \n",
        "cipher = ARC4.new(clave)\n",
        "texto_descifrado = cipher.decrypt(texto_cifrado)\n",
        "print(\"Texto descifrado:\", texto_descifrado.decode())\n",
        "fin = time.time()    \n",
        "duracion = fin - inicio\n",
        "print(\"Tiempo de ejecución:\", duracion*1000, \"milisegundos\")\n",
        "  "
      ],
      "metadata": {
        "colab": {
          "base_uri": "https://localhost:8080/"
        },
        "id": "GIWf0_vihd5M",
        "outputId": "4b3b81dc-6376-4e34-ba11-57eceef90010"
      },
      "execution_count": 14,
      "outputs": [
        {
          "output_type": "stream",
          "name": "stdout",
          "text": [
            "Texto descifrado: nihil laborum error ipsum assumenda consequuntur libero eveniet inventore quas\n",
            "Tiempo de ejecución: 2.4068355560302734 milisegundos\n"
          ]
        }
      ]
    }
  ]
}