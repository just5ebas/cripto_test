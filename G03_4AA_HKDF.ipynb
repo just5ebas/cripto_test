{
  "nbformat": 4,
  "nbformat_minor": 0,
  "metadata": {
    "colab": {
      "provenance": []
    },
    "kernelspec": {
      "name": "python3",
      "display_name": "Python 3"
    },
    "language_info": {
      "name": "python"
    }
  },
  "cells": [
    {
      "cell_type": "code",
      "source": [
        "#Lorem ipsum\n",
        "!pip install lorem-text"
      ],
      "metadata": {
        "colab": {
          "base_uri": "https://localhost:8080/"
        },
        "id": "hwwt4mkgh7gA",
        "outputId": "3cce5be7-ba14-4d3b-ec97-b2f155a5391b"
      },
      "execution_count": 1,
      "outputs": [
        {
          "output_type": "stream",
          "name": "stdout",
          "text": [
            "Looking in indexes: https://pypi.org/simple, https://us-python.pkg.dev/colab-wheels/public/simple/\n",
            "Collecting lorem-text\n",
            "  Downloading lorem_text-2.1-py2.py3-none-any.whl (6.0 kB)\n",
            "Requirement already satisfied: Click>=7.0 in /usr/local/lib/python3.10/dist-packages (from lorem-text) (8.1.3)\n",
            "Installing collected packages: lorem-text\n",
            "Successfully installed lorem-text-2.1\n"
          ]
        }
      ]
    },
    {
      "cell_type": "code",
      "execution_count": 2,
      "metadata": {
        "id": "64weflf3bqUm"
      },
      "outputs": [],
      "source": [
        "# HKDF\n",
        "from cryptography.hazmat.primitives.asymmetric import ec\n",
        "from cryptography.hazmat.primitives import serialization\n",
        "from cryptography.hazmat.backends import default_backend\n",
        "from cryptography.hazmat.primitives import hashes\n",
        "from cryptography.hazmat.primitives.kdf.hkdf import HKDF\n",
        "from cryptography.hazmat.primitives.ciphers import Cipher, algorithms, modes\n",
        "import os"
      ]
    },
    {
      "cell_type": "code",
      "source": [
        "import time"
      ],
      "metadata": {
        "id": "tEq2qThkdzpH"
      },
      "execution_count": 3,
      "outputs": []
    },
    {
      "cell_type": "code",
      "source": [
        "from lorem_text import lorem\n",
        "\n",
        "def generar_lorem(num_palabras):\n",
        "    texto = lorem.words(num_palabras)\n",
        "    return texto"
      ],
      "metadata": {
        "id": "42JCJbg_clUm"
      },
      "execution_count": 4,
      "outputs": []
    },
    {
      "cell_type": "markdown",
      "source": [
        "##1. Leer un archivo con el texto del mensaje a cifrar."
      ],
      "metadata": {
        "id": "eIgQBO5ueeau"
      }
    },
    {
      "cell_type": "code",
      "source": [
        "inicio = time.time()\n",
        "\n",
        "mensaje = generar_lorem(10).encode()\n",
        "\n",
        "fin = time.time()\n",
        "\n",
        "duracion = fin - inicio\n",
        "\n",
        "print(\"Tiempo de ejecución:\", duracion*1000, \"milisegundos\")"
      ],
      "metadata": {
        "colab": {
          "base_uri": "https://localhost:8080/"
        },
        "id": "bTznnUwmd3RB",
        "outputId": "05e1d3b1-aed3-427f-f7bf-2b71b5bfff7a"
      },
      "execution_count": 6,
      "outputs": [
        {
          "output_type": "stream",
          "name": "stdout",
          "text": [
            "Tiempo de ejecución: 0.16307830810546875 milisegundos\n"
          ]
        }
      ]
    },
    {
      "cell_type": "markdown",
      "source": [
        "##2. Generar e imprimir la(las) claves de cifrado y/o descifrado."
      ],
      "metadata": {
        "id": "hBEh29fHebGk"
      }
    },
    {
      "cell_type": "code",
      "source": [
        "inicio = time.time()\n",
        "\n",
        "private_key1 = ec.generate_private_key(ec.SECP256R1(), default_backend())\n",
        "public_key1 = private_key1.public_key()\n",
        "\n",
        "private_key2 = ec.generate_private_key(ec.SECP256R1(), default_backend())\n",
        "public_key2 = private_key2.public_key()\n",
        "\n",
        "shared_key1 = private_key1.exchange(ec.ECDH(), public_key2)\n",
        "shared_key2 = private_key2.exchange(ec.ECDH(), public_key1)\n",
        "\n",
        "print(private_key1)\n",
        "print(public_key1)\n",
        "print(private_key2)\n",
        "print(public_key2)\n",
        "print(shared_key1)\n",
        "print(shared_key2)\n",
        "\n",
        "fin = time.time()\n",
        "\n",
        "duracion = fin - inicio\n",
        "\n",
        "print(\"Tiempo de ejecución:\", duracion*1000, \"milisegundos\")"
      ],
      "metadata": {
        "colab": {
          "base_uri": "https://localhost:8080/"
        },
        "id": "ldS9ojAfd3MW",
        "outputId": "e71e6efa-8613-4437-f6e3-5dd00f2d9b53"
      },
      "execution_count": 7,
      "outputs": [
        {
          "output_type": "stream",
          "name": "stdout",
          "text": [
            "<cryptography.hazmat.backends.openssl.ec._EllipticCurvePrivateKey object at 0x7f14c148e2c0>\n",
            "<cryptography.hazmat.backends.openssl.ec._EllipticCurvePublicKey object at 0x7f14c148fa30>\n",
            "<cryptography.hazmat.backends.openssl.ec._EllipticCurvePrivateKey object at 0x7f14c148fc10>\n",
            "<cryptography.hazmat.backends.openssl.ec._EllipticCurvePublicKey object at 0x7f14c148f940>\n",
            "b'\\xb7\\xc1\\xb1\\xe0%\\xd8\\xa38\\xa7\\x9e\\xd1\\xce\\xef\\xcc\\x84O\\xa1=\\xfd\\xb1\\xbbY7\\x0b\\xa49\\x92\\xf01IP$'\n",
            "b'\\xb7\\xc1\\xb1\\xe0%\\xd8\\xa38\\xa7\\x9e\\xd1\\xce\\xef\\xcc\\x84O\\xa1=\\xfd\\xb1\\xbbY7\\x0b\\xa49\\x92\\xf01IP$'\n",
            "Tiempo de ejecución: 4.496097564697266 milisegundos\n"
          ]
        }
      ]
    },
    {
      "cell_type": "markdown",
      "source": [
        "##3. Cifrar e imprimir el texto."
      ],
      "metadata": {
        "id": "9cZWuh2Zehk1"
      }
    },
    {
      "cell_type": "code",
      "source": [
        "inicio = time.time()\n",
        "\n",
        "hkdf = HKDF(\n",
        "    algorithm=hashes.SHA256(),\n",
        "    length=32,\n",
        "    salt=None,\n",
        "    info=b'session_key',\n",
        "    backend=default_backend()\n",
        ")\n",
        "session_key = hkdf.derive(shared_key1)\n",
        "\n",
        "nonce = os.urandom(16)\n",
        "cipher = Cipher(algorithms.AES(session_key), modes.CTR(nonce), backend=default_backend())\n",
        "encryptor = cipher.encryptor()\n",
        "ciphertext = encryptor.update(mensaje) + encryptor.finalize()\n",
        "\n",
        "print(ciphertext.hex())\n",
        "\n",
        "fin = time.time()\n",
        "\n",
        "duracion = fin - inicio\n",
        "\n",
        "print(\"Tiempo de ejecución:\", duracion*1000, \"milisegundos\")"
      ],
      "metadata": {
        "colab": {
          "base_uri": "https://localhost:8080/"
        },
        "id": "9OYNghb1d3Fh",
        "outputId": "ad26cf19-5c24-4c5b-a00e-ed06ffde9249"
      },
      "execution_count": 14,
      "outputs": [
        {
          "output_type": "stream",
          "name": "stdout",
          "text": [
            "5205e2c8a014714654a819d92821de6f794c7a881276afff30391e93ffa2d96f23f0a49ae52a6ab928e50fb3c41806ee40c2dd7096c73293e215f762b7b09fb6584e93cb88a2e2a1c093c0a14497f8d7\n",
            "Tiempo de ejecución: 2.072572708129883 milisegundos\n"
          ]
        }
      ]
    },
    {
      "cell_type": "markdown",
      "source": [
        "##4. Descifrar e imprimir el texto."
      ],
      "metadata": {
        "id": "nm8VzYaiekmA"
      }
    },
    {
      "cell_type": "code",
      "source": [
        "inicio = time.time()\n",
        "\n",
        "decryptor = cipher.decryptor()\n",
        "decrypted_text = decryptor.update(ciphertext) + decryptor.finalize()\n",
        "\n",
        "if decrypted_text == mensaje:\n",
        "  print(\"Descifrado correcto\")\n",
        "\n",
        "print(decrypted_text.decode())\n",
        "\n",
        "fin = time.time()\n",
        "\n",
        "duracion = fin - inicio\n",
        "\n",
        "print(\"Tiempo de ejecución:\", duracion*1000, \"milisegundos\")"
      ],
      "metadata": {
        "colab": {
          "base_uri": "https://localhost:8080/"
        },
        "id": "3WJbMHRwd27o",
        "outputId": "fce163ac-8735-421b-a788-7d80a1841da8"
      },
      "execution_count": 16,
      "outputs": [
        {
          "output_type": "stream",
          "name": "stdout",
          "text": [
            "Descifrado correcto\n",
            "cupiditate ratione enim tenetur temporibus accusamus ex doloremque dolores nulla\n",
            "Tiempo de ejecución: 2.264738082885742 milisegundos\n"
          ]
        }
      ]
    }
  ]
}