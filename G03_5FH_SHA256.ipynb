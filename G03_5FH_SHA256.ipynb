{
  "nbformat": 4,
  "nbformat_minor": 0,
  "metadata": {
    "colab": {
      "provenance": []
    },
    "kernelspec": {
      "name": "python3",
      "display_name": "Python 3"
    },
    "language_info": {
      "name": "python"
    }
  },
  "cells": [
    {
      "cell_type": "markdown",
      "source": [
        "#Función Hash\n",
        "##SHA256"
      ],
      "metadata": {
        "id": "9wycWvEomjU6"
      }
    },
    {
      "cell_type": "code",
      "source": [
        "#Lorem ipsum\n",
        "!pip install lorem-text"
      ],
      "metadata": {
        "colab": {
          "base_uri": "https://localhost:8080/"
        },
        "id": "oRViCkZ-m3R2",
        "outputId": "97353694-6bf1-43f5-dc48-716fc117f27c"
      },
      "execution_count": 1,
      "outputs": [
        {
          "output_type": "stream",
          "name": "stdout",
          "text": [
            "Looking in indexes: https://pypi.org/simple, https://us-python.pkg.dev/colab-wheels/public/simple/\n",
            "Collecting lorem-text\n",
            "  Downloading lorem_text-2.1-py2.py3-none-any.whl (6.0 kB)\n",
            "Requirement already satisfied: Click>=7.0 in /usr/local/lib/python3.10/dist-packages (from lorem-text) (8.1.3)\n",
            "Installing collected packages: lorem-text\n",
            "Successfully installed lorem-text-2.1\n"
          ]
        }
      ]
    },
    {
      "cell_type": "code",
      "source": [
        "import time\n",
        "# SHA256\n",
        "import hashlib"
      ],
      "metadata": {
        "id": "Of6DouvEoyU1"
      },
      "execution_count": 9,
      "outputs": []
    },
    {
      "cell_type": "code",
      "source": [
        "from lorem_text import lorem\n",
        "\n",
        "# Generar un texto de estilo \"Lorem Ipsum\" con un número específico de palabras\n",
        "def generar_lorem(num_palabras):\n",
        "    texto = lorem.words(num_palabras)\n",
        "    return texto"
      ],
      "metadata": {
        "id": "5djMHYuwm_mq"
      },
      "execution_count": 5,
      "outputs": []
    },
    {
      "cell_type": "code",
      "source": [
        "inicio = time.time()\n",
        "mensaje = generar_lorem(10).encode()\n",
        "fin = time.time()\n",
        "duracion = fin - inicio\n",
        "print(\"Tiempo de ejecución:\", duracion*1000, \"milisegundos\")"
      ],
      "metadata": {
        "colab": {
          "base_uri": "https://localhost:8080/"
        },
        "id": "ANuxUKcCnDXy",
        "outputId": "7935ceee-7522-4ceb-ad8f-18c3c54232b7"
      },
      "execution_count": 6,
      "outputs": [
        {
          "output_type": "stream",
          "name": "stdout",
          "text": [
            "Tiempo de ejecución: 0.1800060272216797 milisegundos\n"
          ]
        }
      ]
    },
    {
      "cell_type": "code",
      "execution_count": 11,
      "metadata": {
        "colab": {
          "base_uri": "https://localhost:8080/"
        },
        "id": "KmHgqrgel9UD",
        "outputId": "83796d59-2eea-4d5a-9ac2-778e27ffc9dc"
      },
      "outputs": [
        {
          "output_type": "stream",
          "name": "stdout",
          "text": [
            "a2781f0cdfe52aad902f9a20f8034612d3aa4b5d9077597e9a1e0ee46ae19e7b\n",
            "Tiempo de ejecución: 1.7824172973632812 milisegundos\n"
          ]
        }
      ],
      "source": [
        "inicio = time.time()\n",
        "    # Creamos un objeto de hash SHA256\n",
        "sha256 = hashlib.sha256()\n",
        "    # Actualizamos el hash con los bytes del texto\n",
        "sha256.update(mensaje)\n",
        "    # Obtenemos el hash final en formato hexadecimal\n",
        "hash_sha256 = sha256.hexdigest()\n",
        "print(hash_sha256)\n",
        "fin = time.time()\n",
        "duracion = fin - inicio\n",
        "print(\"Tiempo de ejecución:\", duracion*1000, \"milisegundos\")\n",
        "    "
      ]
    }
  ]
}