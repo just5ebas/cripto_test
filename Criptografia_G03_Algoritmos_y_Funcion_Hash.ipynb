{
  "nbformat": 4,
  "nbformat_minor": 0,
  "metadata": {
    "colab": {
      "provenance": []
    },
    "kernelspec": {
      "name": "python3",
      "display_name": "Python 3"
    },
    "language_info": {
      "name": "python"
    }
  },
  "cells": [
    {
      "cell_type": "markdown",
      "source": [
        "#Librerías\n",
        "Son librerias unicamente de los algoritmos"
      ],
      "metadata": {
        "id": "XkurAblnRu1U"
      }
    },
    {
      "cell_type": "code",
      "source": [
        "# Fernet\n",
        "!pip install cryptography\n",
        "# ARC4\n",
        "!pip install pycryptodome"
      ],
      "metadata": {
        "colab": {
          "base_uri": "https://localhost:8080/"
        },
        "id": "JROFIvZ5Rug0",
        "outputId": "0a80f39e-6123-433a-f87e-7861e472aa9c"
      },
      "execution_count": 5,
      "outputs": [
        {
          "output_type": "stream",
          "name": "stdout",
          "text": [
            "Looking in indexes: https://pypi.org/simple, https://us-python.pkg.dev/colab-wheels/public/simple/\n",
            "Requirement already satisfied: cryptography in /usr/local/lib/python3.10/dist-packages (40.0.2)\n",
            "Requirement already satisfied: cffi>=1.12 in /usr/local/lib/python3.10/dist-packages (from cryptography) (1.15.1)\n",
            "Requirement already satisfied: pycparser in /usr/local/lib/python3.10/dist-packages (from cffi>=1.12->cryptography) (2.21)\n",
            "Looking in indexes: https://pypi.org/simple, https://us-python.pkg.dev/colab-wheels/public/simple/\n",
            "Collecting pycryptodome\n",
            "  Downloading pycryptodome-3.18.0-cp35-abi3-manylinux_2_17_x86_64.manylinux2014_x86_64.whl (2.1 MB)\n",
            "\u001b[2K     \u001b[90m━━━━━━━━━━━━━━━━━━━━━━━━━━━━━━━━━━━━━━━━\u001b[0m \u001b[32m2.1/2.1 MB\u001b[0m \u001b[31m40.7 MB/s\u001b[0m eta \u001b[36m0:00:00\u001b[0m\n",
            "\u001b[?25hInstalling collected packages: pycryptodome\n",
            "Successfully installed pycryptodome-3.18.0\n"
          ]
        }
      ]
    },
    {
      "cell_type": "code",
      "source": [
        "# Fernet\n",
        "from cryptography.fernet import Fernet"
      ],
      "metadata": {
        "id": "owg_xzguRyzv"
      },
      "execution_count": 6,
      "outputs": []
    },
    {
      "cell_type": "code",
      "source": [
        "# ARC4\n",
        "import Crypto \n",
        "from Crypto.Cipher import ARC4\n",
        "import secrets"
      ],
      "metadata": {
        "id": "NvFbcAvXR2fL"
      },
      "execution_count": 7,
      "outputs": []
    },
    {
      "cell_type": "code",
      "source": [
        "# DSA\n",
        "from cryptography.hazmat.backends import default_backend\n",
        "from cryptography.hazmat.primitives import hashes\n",
        "from cryptography.hazmat.primitives.asymmetric import dsa\n",
        "from cryptography.hazmat.primitives.asymmetric import rsa\n",
        "from cryptography.hazmat.primitives import serialization"
      ],
      "metadata": {
        "id": "-xVkldyOSLwL"
      },
      "execution_count": 8,
      "outputs": []
    },
    {
      "cell_type": "code",
      "source": [
        "# HKDF\n",
        "from cryptography.hazmat.primitives.asymmetric import ec\n",
        "from cryptography.hazmat.primitives import serialization\n",
        "from cryptography.hazmat.backends import default_backend\n",
        "from cryptography.hazmat.primitives import hashes\n",
        "from cryptography.hazmat.primitives.kdf.hkdf import HKDF\n",
        "from cryptography.hazmat.primitives.ciphers import Cipher, algorithms, modes\n",
        "import os"
      ],
      "metadata": {
        "id": "N8wb73zgV02U"
      },
      "execution_count": 9,
      "outputs": []
    },
    {
      "cell_type": "code",
      "source": [
        "# SHA256\n",
        "import hashlib"
      ],
      "metadata": {
        "id": "ApUtWC2cSTKZ"
      },
      "execution_count": 10,
      "outputs": []
    },
    {
      "cell_type": "markdown",
      "source": [
        "#Algoritmos Simétricos\n",
        "##1. Fernet"
      ],
      "metadata": {
        "id": "IPkG9fXBRUGu"
      }
    },
    {
      "cell_type": "code",
      "execution_count": null,
      "metadata": {
        "colab": {
          "base_uri": "https://localhost:8080/"
        },
        "id": "lwKObOylRIwx",
        "outputId": "56d44530-4313-441d-ac2d-0c54bfd79e9f"
      },
      "outputs": [
        {
          "output_type": "stream",
          "name": "stdout",
          "text": [
            "hoho\n",
            "Token: gAAAAABkd2ASZWmyJF95L6g7qTVsiRFfutlBSV4mCOXCpdyD3bg_JWcPbqYKMT0w4SELdI_hynLmPxMSalqI_ZzRTFb4JLd_Ww==\n"
          ]
        }
      ],
      "source": [
        "# Generamos una clave\n",
        "clave = Fernet.generate_key()\n",
        "\n",
        "# Creamos la instancia de Fernet\n",
        "# Parametros: key: clave generada\n",
        "f = Fernet(clave)\n",
        "\n",
        "# Encriptamos el mensaje\n",
        "# utilizando el método \"encrypt\"\n",
        "mensaje = bytes(input(), 'utf-8')\n",
        "token = f.encrypt(mensaje)\n",
        "\n",
        "# Mostramos el token del mensaje\n",
        "print('Token:', token.decode())"
      ]
    },
    {
      "cell_type": "code",
      "source": [
        "# Podemos descifrar el mensaje utilizando el método \"decrypt\".\n",
        "des = f.decrypt(token)\n",
        "# decode() sirve para volver a formato string\n",
        "print(des.decode())"
      ],
      "metadata": {
        "colab": {
          "base_uri": "https://localhost:8080/"
        },
        "id": "ErGnTNIoTczn",
        "outputId": "5b0d7cfb-a5c9-4e0d-d715-df43bd0607fb"
      },
      "execution_count": null,
      "outputs": [
        {
          "output_type": "stream",
          "name": "stdout",
          "text": [
            "hoho\n"
          ]
        }
      ]
    },
    {
      "cell_type": "markdown",
      "source": [
        "##2. ARC4"
      ],
      "metadata": {
        "id": "p1EUPknbRb_2"
      }
    },
    {
      "cell_type": "code",
      "source": [
        "def rc4(texto):\n",
        "    clave = secrets.token_bytes(16)  # Genera una clave aleatoria de 16 bytes\n",
        "    cipher = ARC4.new(clave)\n",
        "    texto_cifrado = cipher.encrypt(texto)\n",
        "    return clave, texto_cifrado"
      ],
      "metadata": {
        "id": "aVMKeYzBRfwu"
      },
      "execution_count": null,
      "outputs": []
    },
    {
      "cell_type": "code",
      "source": [
        "texto_plano = bytes(input(), 'utf-8')\n",
        "key, ciphertext = rc4(texto_plano)\n",
        "print(\"Clave: \", key)\n",
        "print(\"Texto cifrado: \", ciphertext)"
      ],
      "metadata": {
        "colab": {
          "base_uri": "https://localhost:8080/"
        },
        "id": "rkc7J3hRUKAC",
        "outputId": "cab4ffc6-8270-4bb1-f5e7-580b28a0741b"
      },
      "execution_count": null,
      "outputs": [
        {
          "output_type": "stream",
          "name": "stdout",
          "text": [
            "hola mundo\n",
            "Clave:  b'G\\xad=\\xa0\\x96\\xae\\x85\\x9f(\\x97t2P\\xc4\\x87\\xb1'\n",
            "Texto cifrado:  b'\\xa9e I\\xd0f\\xb1\\xa2\"\\x92'\n"
          ]
        }
      ]
    },
    {
      "cell_type": "code",
      "source": [
        "cipher = ARC4.new(key)\n",
        "texto_descifrado = cipher.decrypt(ciphertext).decode()\n",
        "print(\"Texto descifrado:\", texto_descifrado)"
      ],
      "metadata": {
        "colab": {
          "base_uri": "https://localhost:8080/"
        },
        "id": "UXvydBooULSM",
        "outputId": "bdcbd461-ac4f-49be-ac97-fdaeaed2c335"
      },
      "execution_count": null,
      "outputs": [
        {
          "output_type": "stream",
          "name": "stdout",
          "text": [
            "Texto descifrado: hola mundo\n"
          ]
        }
      ]
    },
    {
      "cell_type": "markdown",
      "source": [
        "#Algoritmo Asimétrico\n",
        "##DSA (Digital Sign Algorithm)"
      ],
      "metadata": {
        "id": "xoQEMRfERgVJ"
      }
    },
    {
      "cell_type": "code",
      "source": [
        "# Generar una clave privada DSA\n",
        "clave_privada = dsa.generate_private_key(key_size=1024)\n",
        "\n",
        "# Obtener la clave pública correspondiente\n",
        "clave_publica = clave_privada.public_key()\n",
        "\n",
        "# Generamos una clave privada de otro algoritmo y obtenemos su clave publica\n",
        "private_key = rsa.generate_private_key(\n",
        "     public_exponent=65537,\n",
        "     key_size=2048,\n",
        "     backend=default_backend()\n",
        ")\n",
        "public_key = private_key.public_key()\n",
        "\n",
        "# Serializar la clave pública en formato PEM\n",
        "clave_publica_pem = clave_publica.public_bytes(\n",
        "    encoding=serialization.Encoding.PEM,\n",
        "    format=serialization.PublicFormat.SubjectPublicKeyInfo\n",
        ")\n",
        "\n",
        "# Mensaje a firmar\n",
        "mensaje = bytes(input(), 'utf-8')\n",
        "\n",
        "# Firmar el mensaje utilizando la clave privada\n",
        "firma = clave_privada.sign(\n",
        "    mensaje,\n",
        "    hashes.SHA256()\n",
        ")\n",
        "\n",
        "# Verificar la firma utilizando la clave pública\n",
        "try:\n",
        "    clave_publica.verify(\n",
        "      firma,\n",
        "      mensaje,\n",
        "      hashes.SHA256()\n",
        "    ) \n",
        "    print(\"La firma es valida. Clave publica: \", clave_publica)\n",
        "except Exception:\n",
        "  print(\"La firma no es valida\")\n",
        "\n",
        "# Verificar la firma utilizando la clave pública que no es correcta\n",
        "try:\n",
        "    public_key.verify(\n",
        "      firma,\n",
        "      mensaje,\n",
        "      hashes.SHA256()\n",
        "    ) \n",
        "    print(\"La firma es valida.\")\n",
        "except Exception:\n",
        "    print(\"La firma no es valida. Clave publica: \", public_key)\n",
        "\n",
        "print(\"Mensaje original:  \", mensaje.decode())"
      ],
      "metadata": {
        "colab": {
          "base_uri": "https://localhost:8080/"
        },
        "id": "QmP4LWs7Rovv",
        "outputId": "0ba3ec98-8475-4efb-fb29-eb6715702b42"
      },
      "execution_count": null,
      "outputs": [
        {
          "output_type": "stream",
          "name": "stdout",
          "text": [
            "hola mundo\n",
            "La firma es valida. Clave publica:  <cryptography.hazmat.backends.openssl.dsa._DSAPublicKey object at 0x7fd80f0ec9d0>\n",
            "La firma no es valida. Clave publica:  <cryptography.hazmat.backends.openssl.rsa._RSAPublicKey object at 0x7fd80f0efa00>\n",
            "Mensaje original:   hola mundo\n"
          ]
        }
      ]
    },
    {
      "cell_type": "markdown",
      "source": [
        "##Algoritmo Adicional Asimétrico\n",
        "##HKDF"
      ],
      "metadata": {
        "id": "gAEJ6UUgVsiV"
      }
    },
    {
      "cell_type": "code",
      "source": [
        "#Generar las claves para Alice\n",
        "alice_private_key = ec.generate_private_key(ec.SECP256R1(), default_backend())\n",
        "alice_public_key = alice_private_key.public_key()\n",
        "\n",
        "#Generar las claves para Bob\n",
        "bob_private_key = ec.generate_private_key(ec.SECP256R1(), default_backend())\n",
        "bob_public_key = bob_private_key.public_key()\n",
        "\n",
        "#Intercambio de claves\n",
        "alice_shared_key = alice_private_key.exchange(ec.ECDH(), bob_public_key)\n",
        "bob_shared_key = bob_private_key.exchange(ec.ECDH(), alice_public_key)\n",
        "\n",
        "#Verificación de que las claves compartidas sean iguales\n",
        "assert alice_shared_key == bob_shared_key\n",
        "\n",
        "#Derivar una clave de sesión utilizando HKDF\n",
        "hkdf = HKDF(\n",
        "    algorithm=hashes.SHA256(),\n",
        "    length=32,\n",
        "    salt=None,\n",
        "    info=b'session_key',\n",
        "    backend=default_backend()\n",
        ")\n",
        "session_key = hkdf.derive(alice_shared_key)\n",
        "\n",
        "#Cifrado del mensaje de Alice a Bob\n",
        "plaintext = bytes(input(), 'utf-8')\n",
        "nonce = os.urandom(16)\n",
        "cipher = Cipher(algorithms.AES(session_key), modes.CTR(nonce), backend=default_backend())\n",
        "encryptor = cipher.encryptor()\n",
        "ciphertext = encryptor.update(plaintext) + encryptor.finalize()\n",
        "\n",
        "#Descifrado del mensaje de Bob\n",
        "decryptor = cipher.decryptor()\n",
        "decrypted_text = decryptor.update(ciphertext) + decryptor.finalize()\n",
        "\n",
        "#Verificación de que el mensaje descifrado sea igual al original\n",
        "if decrypted_text == plaintext:\n",
        "  print(\"Descifrado correcto\")\n",
        "\n",
        "#Imprimir el mensaje cifrado y descifrado\n",
        "print(\"Mensaje cifrado: \", ciphertext.hex())\n",
        "print(\"Mensaje descifrado: \", decrypted_text.decode())"
      ],
      "metadata": {
        "colab": {
          "base_uri": "https://localhost:8080/"
        },
        "id": "gQD0jLGLVw0Y",
        "outputId": "fbff49ac-48ec-43be-8c9f-02cbb9938704"
      },
      "execution_count": null,
      "outputs": [
        {
          "output_type": "stream",
          "name": "stdout",
          "text": [
            "hola\n",
            "Descifrado correcto\n",
            "Mensaje cifrado:  06bfbb0d\n",
            "Mensaje descifrado:  hola\n"
          ]
        }
      ]
    },
    {
      "cell_type": "markdown",
      "source": [
        "#Función Hash\n",
        "##SHA256"
      ],
      "metadata": {
        "id": "vyPWg51NRqj5"
      }
    },
    {
      "cell_type": "code",
      "source": [
        "def calcular_sha256(texto): # Recibimos texto\n",
        "    # Creamos un objeto de hash SHA256\n",
        "    sha256 = hashlib.sha256()\n",
        "\n",
        "    # Actualizamos el hash con los bytes del texto\n",
        "    sha256.update(texto)\n",
        "\n",
        "    # Obtenemos el hash final en formato hexadecimal\n",
        "    hash_sha256 = sha256.hexdigest()\n",
        "\n",
        "    return hash_sha256"
      ],
      "metadata": {
        "id": "vSm1xjK2ScA_"
      },
      "execution_count": 15,
      "outputs": []
    },
    {
      "cell_type": "code",
      "source": [
        "texto = bytes(input(), 'utf-8')\n",
        "hash_resultado = calcular_sha256(texto)\n",
        "print(\"Hash SHA256:\", hash_resultado)"
      ],
      "metadata": {
        "colab": {
          "base_uri": "https://localhost:8080/"
        },
        "id": "wyu1dcKWS4CI",
        "outputId": "06c43269-9046-435f-a5bd-3b39ece54984"
      },
      "execution_count": 16,
      "outputs": [
        {
          "output_type": "stream",
          "name": "stdout",
          "text": [
            "hola\n",
            "Hash SHA256: b221d9dbb083a7f33428d7c2a3c3198ae925614d70210e28716ccaa7cd4ddb79\n"
          ]
        }
      ]
    },
    {
      "cell_type": "markdown",
      "source": [
        "##Linea para generar claves aleatorias"
      ],
      "metadata": {
        "id": "nsRCvtr6W7IG"
      }
    },
    {
      "cell_type": "code",
      "source": [
        "import os\n",
        "\n",
        "claveEj = os.urandom(32) # Clave aleatoria en formato Byte de 32 bytes\n",
        "print('Clave: ', clave)"
      ],
      "metadata": {
        "colab": {
          "base_uri": "https://localhost:8080/"
        },
        "id": "z-AbTOdJW99c",
        "outputId": "327386f8-3097-42a0-ffdf-f2ed526cd1c2"
      },
      "execution_count": null,
      "outputs": [
        {
          "output_type": "stream",
          "name": "stdout",
          "text": [
            "Clave:  b'BfLA8Q0VawBAqNm3ytY2JXA8gsHt83KJRhW6x6BhZ-Y='\n"
          ]
        }
      ]
    },
    {
      "cell_type": "markdown",
      "source": [
        "#Funcion para medir el tiempo\n",
        "##Opcion 1 \n",
        "Usando time.time()"
      ],
      "metadata": {
        "id": "ILxPpkBoIctO"
      }
    },
    {
      "cell_type": "code",
      "source": [
        "import time"
      ],
      "metadata": {
        "id": "9ET-cLEHIxl8"
      },
      "execution_count": null,
      "outputs": []
    },
    {
      "cell_type": "code",
      "source": [
        "inicio = time.time()\n",
        "#aqui va el metodo\n",
        "fin = time.time()\n",
        "\n",
        "duracion = fin - inicio\n",
        "\n",
        "print(\"Tiempo de ejecución:\", duracion, \"segundos\")"
      ],
      "metadata": {
        "colab": {
          "base_uri": "https://localhost:8080/"
        },
        "id": "FA9MJDM8IljY",
        "outputId": "e1dc8197-2514-4035-9933-4f4c8a844a73"
      },
      "execution_count": null,
      "outputs": [
        {
          "output_type": "stream",
          "name": "stdout",
          "text": [
            "Tiempo de ejecución: 3.409385681152344e-05 segundos\n"
          ]
        }
      ]
    },
    {
      "cell_type": "markdown",
      "source": [
        "#Opcion 2\n",
        "Usando timeit"
      ],
      "metadata": {
        "id": "jhuysMgQI1US"
      }
    },
    {
      "cell_type": "code",
      "source": [
        "import timeit"
      ],
      "metadata": {
        "id": "xdgOX1HpI-xl"
      },
      "execution_count": null,
      "outputs": []
    },
    {
      "cell_type": "code",
      "source": [
        "# Para metodos sin parametros\n",
        "def mi_metodo():\n",
        "    # Código de tu método\n",
        "    pass\n",
        "\n",
        "# Medir el tiempo de ejecución\n",
        "tiempo = timeit.timeit(mi_metodo, number=1)\n",
        "\n",
        "print(\"Tiempo de ejecución:\", tiempo, \"segundos\")"
      ],
      "metadata": {
        "colab": {
          "base_uri": "https://localhost:8080/"
        },
        "id": "2yU0qsWhI457",
        "outputId": "d990010d-cacd-46c8-caac-ff9cb530708f"
      },
      "execution_count": null,
      "outputs": [
        {
          "output_type": "stream",
          "name": "stdout",
          "text": [
            "Tiempo de ejecución: 1.522999994563179e-06 segundos\n"
          ]
        }
      ]
    },
    {
      "cell_type": "markdown",
      "source": [
        "###Si el metodo contiene parametros, se hace:"
      ],
      "metadata": {
        "id": "MKhNIMQgJLsH"
      }
    },
    {
      "cell_type": "code",
      "source": [
        "from functools import partial"
      ],
      "metadata": {
        "id": "0ChWrOMDJLHG"
      },
      "execution_count": null,
      "outputs": []
    },
    {
      "cell_type": "code",
      "source": [
        "# Definir tu método con parámetros\n",
        "def mi_metodo(a, b):\n",
        "    a + b\n",
        "\n",
        "# Crear una función parcial con los argumentos fijos\n",
        "mi_metodo_parcial = partial(mi_metodo, 1, 2)  # Reemplaza arg1 y arg2 con tus valores\n",
        "\n",
        "# Medir el tiempo de ejecución\n",
        "tiempo = timeit.timeit(mi_metodo_parcial, number=1)\n",
        "\n",
        "print(\"Tiempo de ejecución:\", tiempo, \"segundos\")"
      ],
      "metadata": {
        "colab": {
          "base_uri": "https://localhost:8080/"
        },
        "id": "hen_pOF1JA5K",
        "outputId": "5206b434-19a6-495d-dc06-82658f9bae5d"
      },
      "execution_count": null,
      "outputs": [
        {
          "output_type": "stream",
          "name": "stdout",
          "text": [
            "Tiempo de ejecución: 1.4859999737382168e-06 segundos\n"
          ]
        }
      ]
    },
    {
      "cell_type": "markdown",
      "source": [
        " La función partial() se utiliza para crear una nueva función que tiene los argumentos arg1 y arg2 ya fijados."
      ],
      "metadata": {
        "id": "1LRl7kImJWTQ"
      }
    },
    {
      "cell_type": "markdown",
      "source": [
        "#Generador de texto\n",
        "Usando lorem_text"
      ],
      "metadata": {
        "id": "uFrEuc-iJnT0"
      }
    },
    {
      "cell_type": "code",
      "source": [
        "!pip install lorem-text"
      ],
      "metadata": {
        "colab": {
          "base_uri": "https://localhost:8080/"
        },
        "id": "skEeJnP4bB-7",
        "outputId": "57060b17-1b7d-449e-d973-0b63d2009632"
      },
      "execution_count": 23,
      "outputs": [
        {
          "output_type": "stream",
          "name": "stdout",
          "text": [
            "Looking in indexes: https://pypi.org/simple, https://us-python.pkg.dev/colab-wheels/public/simple/\n",
            "Collecting lorem-text\n",
            "  Downloading lorem_text-2.1-py2.py3-none-any.whl (6.0 kB)\n",
            "Requirement already satisfied: Click>=7.0 in /usr/local/lib/python3.10/dist-packages (from lorem-text) (8.1.3)\n",
            "Installing collected packages: lorem-text\n",
            "Successfully installed lorem-text-2.1\n"
          ]
        }
      ]
    },
    {
      "cell_type": "code",
      "source": [
        "from lorem_text import lorem\n",
        "\n",
        "# Generar un texto de estilo \"Lorem Ipsum\" con un número específico de palabras\n",
        "def generar_lorem(num_palabras):\n",
        "    texto = lorem.words(num_palabras)\n",
        "    return texto\n",
        "\n",
        "num_palabras_deseadas = 1000\n",
        "texto_lorem = generar_lorem(num_palabras_deseadas)\n",
        "print(texto_lorem)"
      ],
      "metadata": {
        "colab": {
          "base_uri": "https://localhost:8080/"
        },
        "id": "7bxnWIaRKMJn",
        "outputId": "7003a8eb-dfc6-40b4-bedd-d81713a3b0e2"
      },
      "execution_count": 25,
      "outputs": [
        {
          "output_type": "stream",
          "name": "stdout",
          "text": [
            "consequatur ut est nobis quis voluptate architecto rem provident accusantium alias molestiae eligendi cupiditate cum vel magnam id doloremque expedita eveniet hic magni aut impedit nemo quaerat quae nostrum praesentium velit modi placeat facere assumenda nisi eum in doloribus et adipisci amet culpa quas saepe eius nam sit fugiat atque deserunt dolore beatae incidunt odio debitis repellat aliquid ratione suscipit officia illum ullam sunt soluta distinctio numquam tempora explicabo aliquam ea quidem accusamus laboriosam rerum consequuntur reprehenderit voluptatem earum maiores natus minus obcaecati omnis quia quibusdam ab dolores quam fuga facilis possimus quasi sint ipsum nihil eaque tenetur fugit eos voluptates perferendis qui excepturi quod iure dolorum corporis nulla ipsam delectus error animi porro voluptatibus commodi sed nesciunt iste labore officiis asperiores illo sequi neque pariatur voluptas maxime laudantium aspernatur non harum a molestias cumque consectetur libero tempore corrupti repudiandae minima enim exercitationem voluptatum dignissimos dolorem ad ipsa veniam esse aperiam inventore reiciendis necessitatibus iusto totam blanditiis odit autem recusandae quos dicta perspiciatis quisquam vero itaque temporibus repellendus laborum at sapiente ducimus veritatis quo dolor ex vitae similique deleniti unde mollitia optio possimus iure aperiam eaque totam consequatur tenetur cum nostrum veritatis ipsa obcaecati harum deserunt ut impedit velit repudiandae nisi architecto quisquam sapiente quis aliquam eius reprehenderit ab corrupti ea suscipit et voluptatibus consequuntur rerum accusantium voluptate recusandae officia similique quidem libero quod dolores culpa facere maxime voluptates esse minus error doloremque vitae in sunt corporis dolore dignissimos dolorum odit perspiciatis necessitatibus quia vel amet fugiat eos non saepe ullam distinctio facilis adipisci ratione iste qui illum fuga maiores odio quas dolor exercitationem rem nam nesciunt minima voluptas beatae placeat ducimus magnam laudantium deleniti dolorem nulla debitis illo quam aspernatur quaerat dicta eum provident aliquid iusto mollitia laborum porro cumque unde modi animi quasi tempora veniam consectetur ipsam repellendus quibusdam enim accusamus officiis ad assumenda blanditiis optio cupiditate expedita temporibus est alias earum ipsum sint hic laboriosam tempore pariatur soluta molestias sequi aut neque commodi labore natus atque sed inventore vero asperiores fugit nobis numquam omnis quo id nihil at praesentium doloribus autem itaque magni ex perferendis voluptatum excepturi explicabo sit nemo reiciendis delectus voluptatem eligendi repellat quos molestiae incidunt eveniet quae a vero in quo quae dolorum at ipsa fuga nulla temporibus aliquid corrupti alias aspernatur repudiandae debitis possimus quia officiis tempora soluta omnis officia totam culpa earum est doloribus qui minima quos delectus excepturi beatae pariatur reiciendis dignissimos libero repellendus ab sequi consequatur placeat deleniti vel ut laborum deserunt eius enim tenetur aut explicabo voluptatibus praesentium ex doloremque quibusdam voluptatum sint facere porro iure corporis cumque ea nesciunt nemo hic blanditiis velit accusantium expedita facilis ratione eaque dolores ipsam atque veniam quasi molestiae voluptas exercitationem dolor ad voluptates distinctio magni saepe veritatis voluptate eum a cupiditate quaerat asperiores nam consectetur sed accusamus necessitatibus obcaecati illo dolorem sunt rerum sapiente maxime cum aperiam maiores suscipit eveniet sit minus reprehenderit ullam architecto numquam recusandae mollitia commodi non itaque adipisci modi quidem amet dolore unde quam laudantium impedit ducimus labore voluptatem quas eligendi id nihil incidunt error autem similique et quod laboriosam optio animi fugiat nisi perferendis dicta aliquam magnam iusto quis odio assumenda inventore neque harum perspiciatis nobis illum eos fugit esse consequuntur vitae molestias rem nostrum ipsum tempore quisquam natus provident odit iste repellat accusantium corrupti vel neque repudiandae at non labore dolores laborum autem perspiciatis temporibus officia nostrum id magni quo possimus magnam ipsa velit consectetur eligendi sint tempora illo illum ex ipsam dolorem iure laboriosam hic veniam voluptate iste et architecto amet recusandae sapiente debitis maiores nobis facere soluta suscipit ut ab consequatur nesciunt excepturi quam minima optio in est voluptatem repellat totam porro rem obcaecati incidunt doloremque deserunt a odit dicta assumenda aliquid quia alias corporis cumque dolor omnis libero animi ducimus eum modi exercitationem quasi sequi nemo earum fugit necessitatibus reprehenderit reiciendis asperiores enim blanditiis nisi commodi ea delectus numquam tempore voluptas deleniti doloribus provident aspernatur atque ratione eveniet aliquam quibusdam distinctio quas expedita odio beatae fuga pariatur quos eaque vero perferendis voluptatibus explicabo dolore eos quis quisquam iusto natus quod ipsum nam dignissimos tenetur facilis inventore rerum culpa placeat unde praesentium fugiat officiis cum repellendus itaque eius ullam sit qui maxime cupiditate aut harum molestias saepe veritatis error laudantium molestiae ad aperiam consequuntur adipisci sunt quaerat similique quidem sed minus quae dolorum mollitia voluptatum esse accusamus vitae nulla nihil impedit voluptates nemo quidem sed incidunt vitae nostrum sapiente eveniet exercitationem porro dolorum neque mollitia voluptatem amet excepturi doloremque eum numquam omnis fugiat cum quae facilis aperiam minus explicabo tempore harum totam recusandae possimus perspiciatis ratione necessitatibus quia in voluptatibus cupiditate aliquid maiores dolore quas ipsa consequatur ab quam tempora aliquam sint ex autem deleniti accusantium quibusdam atque rerum est molestias ipsam repellendus veritatis commodi blanditiis suscipit adipisci magnam corporis sequi impedit eligendi delectus voluptas eos ad placeat reprehenderit quod natus at sunt minima enim ullam consectetur aut dolor ipsum odio iure corrupti ut itaque dolores earum pariatur asperiores accusamus iste qui voluptate non laborum saepe quis animi dignissimos illo similique illum et alias temporibus architecto doloribus repellat distinctio quasi fugit a esse debitis consequuntur laboriosam nihil nobis expedita tenetur perferendis modi dolorem magni inventore unde reiciendis eaque nam optio repudiandae praesentium nulla nisi officia maxime cumque quisquam facere velit iusto quo sit aspernatur vero dicta quos id ea labore veniam ducimus eius laudantium culpa voluptatum voluptates vel nesciunt officiis odit soluta rem libero fuga quaerat hic provident error deserunt molestiae assumenda obcaecati beatae dolorum natus ipsum magnam voluptas nulla doloremque praesentium tempora nihil ratione neque impedit reprehenderit voluptatum dolore deserunt quaerat dolores fugiat molestias quod dolor sapiente pariatur eos eum deleniti quia sed odit ea aut beatae quisquam odio libero iure sint id nesciunt nisi nemo perspiciatis porro officia fugit accusantium hic autem illum a aperiam necessitatibus mollitia maxime molestiae suscipit corrupti unde incidunt vel cupiditate ab delectus totam consequuntur commodi repellat asperiores ad sunt soluta quam tempore quas at eaque non similique nam velit ex obcaecati exercitationem assumenda eius laboriosam explicabo dignissimos\n"
          ]
        }
      ]
    }
  ]
}