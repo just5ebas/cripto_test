{
  "nbformat": 4,
  "nbformat_minor": 0,
  "metadata": {
    "colab": {
      "provenance": [],
      "include_colab_link": true
    },
    "kernelspec": {
      "name": "python3",
      "display_name": "Python 3"
    },
    "language_info": {
      "name": "python"
    }
  },
  "cells": [
    {
      "cell_type": "markdown",
      "metadata": {
        "id": "view-in-github",
        "colab_type": "text"
      },
      "source": [
        "<a href=\"https://colab.research.google.com/github/just5ebas/cripto_test/blob/main/G03_5FH_SHA256.ipynb\" target=\"_parent\"><img src=\"https://colab.research.google.com/assets/colab-badge.svg\" alt=\"Open In Colab\"/></a>"
      ]
    },
    {
      "cell_type": "code",
      "source": [
        "#Lorem ipsum\n",
        "!pip install lorem-text"
      ],
      "metadata": {
        "colab": {
          "base_uri": "https://localhost:8080/"
        },
        "id": "oRViCkZ-m3R2",
        "outputId": "3de42077-b6be-4036-a907-78eecef4bac2"
      },
      "execution_count": 1,
      "outputs": [
        {
          "output_type": "stream",
          "name": "stdout",
          "text": [
            "Looking in indexes: https://pypi.org/simple, https://us-python.pkg.dev/colab-wheels/public/simple/\n",
            "Collecting lorem-text\n",
            "  Downloading lorem_text-2.1-py2.py3-none-any.whl (6.0 kB)\n",
            "Requirement already satisfied: Click>=7.0 in /usr/local/lib/python3.10/dist-packages (from lorem-text) (8.1.3)\n",
            "Installing collected packages: lorem-text\n",
            "Successfully installed lorem-text-2.1\n"
          ]
        }
      ]
    },
    {
      "cell_type": "code",
      "source": [
        "import time\n",
        "import hashlib"
      ],
      "metadata": {
        "id": "Of6DouvEoyU1"
      },
      "execution_count": 2,
      "outputs": []
    },
    {
      "cell_type": "code",
      "source": [
        "from lorem_text import lorem\n",
        "\n",
        "# Generar un texto de estilo \"Lorem Ipsum\" con un número específico de palabras\n",
        "def generar_lorem(num_palabras):\n",
        "    texto = lorem.words(num_palabras)\n",
        "    return texto"
      ],
      "metadata": {
        "id": "5djMHYuwm_mq"
      },
      "execution_count": 3,
      "outputs": []
    },
    {
      "cell_type": "markdown",
      "source": [
        "##1. Leer un archivo con el texto del mensaje a cifrar."
      ],
      "metadata": {
        "id": "PyyeiZgDrmaE"
      }
    },
    {
      "cell_type": "code",
      "source": [
        "inicio = time.time()\n",
        "\n",
        "mensaje = generar_lorem(10).encode()\n",
        "\n",
        "fin = time.time()\n",
        "duracion = fin - inicio\n",
        "print(\"Tiempo de ejecución:\", duracion*1000, \"milisegundos\")"
      ],
      "metadata": {
        "colab": {
          "base_uri": "https://localhost:8080/"
        },
        "id": "ANuxUKcCnDXy",
        "outputId": "a184ff52-2779-4aa2-a324-5ad249bdd694"
      },
      "execution_count": 4,
      "outputs": [
        {
          "output_type": "stream",
          "name": "stdout",
          "text": [
            "Tiempo de ejecución: 0.08320808410644531 milisegundos\n"
          ]
        }
      ]
    },
    {
      "cell_type": "markdown",
      "source": [
        "##2. Generar e imprimir la(las) claves de cifrado y/o descifrado."
      ],
      "metadata": {
        "id": "t56Ul9NNr1dZ"
      }
    },
    {
      "cell_type": "code",
      "source": [
        "inicio = time.time()\n",
        "\n",
        "sha256 = hashlib.sha256()\n",
        "print('Objeto:',sha256)\n",
        "\n",
        "fin = time.time()\n",
        "duracion = fin - inicio\n",
        "print(\"Tiempo de ejecución:\", duracion*1000, \"milisegundos\")"
      ],
      "metadata": {
        "colab": {
          "base_uri": "https://localhost:8080/"
        },
        "id": "atwpbPWLr4dO",
        "outputId": "530d970f-f9fa-478e-f24b-93cd8f280e64"
      },
      "execution_count": 5,
      "outputs": [
        {
          "output_type": "stream",
          "name": "stdout",
          "text": [
            "<sha256 _hashlib.HASH object @ 0x7fae299975f0>\n",
            "Tiempo de ejecución: 0.15878677368164062 milisegundos\n"
          ]
        }
      ]
    },
    {
      "cell_type": "markdown",
      "source": [
        "##3. Cifrar e imprimir el texto."
      ],
      "metadata": {
        "id": "2g9QQKPbrnsm"
      }
    },
    {
      "cell_type": "code",
      "execution_count": 6,
      "metadata": {
        "colab": {
          "base_uri": "https://localhost:8080/"
        },
        "id": "KmHgqrgel9UD",
        "outputId": "4f435234-dca8-4a83-94c8-0c9c8862ee17"
      },
      "outputs": [
        {
          "output_type": "stream",
          "name": "stdout",
          "text": [
            "803f1bdb83f01d6f9f8e603628e5caba73d943c1e722f3c4659f8c5193d40abb\n",
            "Tiempo de ejecución: 0.22268295288085938 milisegundos\n"
          ]
        }
      ],
      "source": [
        "inicio = time.time()\n",
        "\n",
        "sha256.update(mensaje)\n",
        "hash_sha256 = sha256.hexdigest()\n",
        "print('Hash:',hash_sha256)\n",
        "\n",
        "fin = time.time()\n",
        "duracion = fin - inicio\n",
        "print(\"Tiempo de ejecución:\", duracion*1000, \"milisegundos\")"
      ]
    }
  ]
}